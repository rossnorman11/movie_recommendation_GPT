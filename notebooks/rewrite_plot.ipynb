{
 "cells": [
  {
   "cell_type": "code",
   "execution_count": 1,
   "id": "44da22e9-1105-4431-8d82-3e4bc1391dd6",
   "metadata": {},
   "outputs": [
    {
     "name": "stderr",
     "output_type": "stream",
     "text": [
      "/var/folders/nd/262_rjl56cs3q3l_3stx5hsw0000gn/T/ipykernel_25324/1626704863.py:2: DeprecationWarning: \n",
      "Pyarrow will become a required dependency of pandas in the next major release of pandas (pandas 3.0),\n",
      "(to allow more performant data types, such as the Arrow string type, and better interoperability with other libraries)\n",
      "but was not found to be installed on your system.\n",
      "If this would cause problems for you,\n",
      "please provide us feedback at https://github.com/pandas-dev/pandas/issues/54466\n",
      "        \n",
      "  import pandas as pd\n"
     ]
    }
   ],
   "source": [
    "import openai\n",
    "import pandas as pd"
   ]
  },
  {
   "cell_type": "code",
   "execution_count": 2,
   "id": "4b8f28c7-b987-4a7a-8696-e12dbc549434",
   "metadata": {},
   "outputs": [],
   "source": [
    "api_key = "
   ]
  },
  {
   "cell_type": "code",
   "execution_count": 3,
   "id": "2737a398-c6e7-4120-800d-0468a43611a3",
   "metadata": {},
   "outputs": [
    {
     "data": {
      "text/plain": [
       "6204"
      ]
     },
     "execution_count": 3,
     "metadata": {},
     "output_type": "execute_result"
    }
   ],
   "source": [
    "df = pd.read_pickle('../raw_data/films_with_plot_complete.pkl')\n",
    "len(df)"
   ]
  },
  {
   "cell_type": "code",
   "execution_count": 4,
   "id": "41735ffc-bdb8-4480-b821-81af808a51cb",
   "metadata": {},
   "outputs": [
    {
     "data": {
      "text/html": [
       "<div>\n",
       "<style scoped>\n",
       "    .dataframe tbody tr th:only-of-type {\n",
       "        vertical-align: middle;\n",
       "    }\n",
       "\n",
       "    .dataframe tbody tr th {\n",
       "        vertical-align: top;\n",
       "    }\n",
       "\n",
       "    .dataframe thead th {\n",
       "        text-align: right;\n",
       "    }\n",
       "</style>\n",
       "<table border=\"1\" class=\"dataframe\">\n",
       "  <thead>\n",
       "    <tr style=\"text-align: right;\">\n",
       "      <th></th>\n",
       "      <th>title</th>\n",
       "      <th>plot_synopsis</th>\n",
       "    </tr>\n",
       "  </thead>\n",
       "  <tbody>\n",
       "    <tr>\n",
       "      <th>0</th>\n",
       "      <td>Mr. Holland's Opus</td>\n",
       "      <td>Glenn Holland, not a morning person by anyone'...</td>\n",
       "    </tr>\n",
       "    <tr>\n",
       "      <th>1</th>\n",
       "      <td>Scarface</td>\n",
       "      <td>In May 1980, a Cuban man named Tony Montana (A...</td>\n",
       "    </tr>\n",
       "    <tr>\n",
       "      <th>5</th>\n",
       "      <td>Flightplan</td>\n",
       "      <td>Kyle Pratt (Jodie Foster) is a propulsion engi...</td>\n",
       "    </tr>\n",
       "    <tr>\n",
       "      <th>6</th>\n",
       "      <td>Little Caesar</td>\n",
       "      <td>Small-time Italian-American criminals Caesar E...</td>\n",
       "    </tr>\n",
       "    <tr>\n",
       "      <th>7</th>\n",
       "      <td>Savages</td>\n",
       "      <td>The movie begins with a video being shot of me...</td>\n",
       "    </tr>\n",
       "    <tr>\n",
       "      <th>...</th>\n",
       "      <td>...</td>\n",
       "      <td>...</td>\n",
       "    </tr>\n",
       "    <tr>\n",
       "      <th>7969</th>\n",
       "      <td>Thunderheart</td>\n",
       "      <td>During the early 1970s, FBI agent Ray Levoi is...</td>\n",
       "    </tr>\n",
       "    <tr>\n",
       "      <th>7970</th>\n",
       "      <td>One Night of Love</td>\n",
       "      <td>Opera singer Mary Barrett (Grace Moore) leaves...</td>\n",
       "    </tr>\n",
       "    <tr>\n",
       "      <th>7971</th>\n",
       "      <td>One False Move</td>\n",
       "      <td>Three criminals, Ray, Pluto and Fantasia (Ray'...</td>\n",
       "    </tr>\n",
       "    <tr>\n",
       "      <th>7972</th>\n",
       "      <td>Lucky Numbers</td>\n",
       "      <td>In 1988 Russ Richards (John Travolta), the wea...</td>\n",
       "    </tr>\n",
       "    <tr>\n",
       "      <th>7973</th>\n",
       "      <td>Play Dirty</td>\n",
       "      <td>During the North African Campaign in World War...</td>\n",
       "    </tr>\n",
       "  </tbody>\n",
       "</table>\n",
       "<p>6204 rows × 2 columns</p>\n",
       "</div>"
      ],
      "text/plain": [
       "                   title                                      plot_synopsis\n",
       "0     Mr. Holland's Opus  Glenn Holland, not a morning person by anyone'...\n",
       "1               Scarface  In May 1980, a Cuban man named Tony Montana (A...\n",
       "5             Flightplan  Kyle Pratt (Jodie Foster) is a propulsion engi...\n",
       "6          Little Caesar  Small-time Italian-American criminals Caesar E...\n",
       "7                Savages  The movie begins with a video being shot of me...\n",
       "...                  ...                                                ...\n",
       "7969        Thunderheart  During the early 1970s, FBI agent Ray Levoi is...\n",
       "7970   One Night of Love  Opera singer Mary Barrett (Grace Moore) leaves...\n",
       "7971      One False Move  Three criminals, Ray, Pluto and Fantasia (Ray'...\n",
       "7972       Lucky Numbers  In 1988 Russ Richards (John Travolta), the wea...\n",
       "7973          Play Dirty  During the North African Campaign in World War...\n",
       "\n",
       "[6204 rows x 2 columns]"
      ]
     },
     "execution_count": 4,
     "metadata": {},
     "output_type": "execute_result"
    }
   ],
   "source": [
    "df"
   ]
  },
  {
   "cell_type": "code",
   "execution_count": 5,
   "id": "3f0cad23-0cef-4031-8db2-c4382ccca694",
   "metadata": {},
   "outputs": [],
   "source": [
    "df['gen_summary'] = None"
   ]
  },
  {
   "cell_type": "code",
   "execution_count": 6,
   "id": "3532450e-6ea6-479e-be2c-7f3c63b58cf6",
   "metadata": {},
   "outputs": [
    {
     "name": "stdout",
     "output_type": "stream",
     "text": [
      "env: OPENAI_API_KEY=api_key\n"
     ]
    }
   ],
   "source": [
    "%env OPENAI_API_KEY = api_key"
   ]
  },
  {
   "cell_type": "code",
   "execution_count": 7,
   "id": "c12cc945-9dc1-4b01-826a-7a59becf3daf",
   "metadata": {},
   "outputs": [],
   "source": [
    "openai.api_key = api_key"
   ]
  },
  {
   "cell_type": "code",
   "execution_count": 11,
   "id": "30697062-dbef-41a1-8aea-361f08703a2f",
   "metadata": {},
   "outputs": [],
   "source": [
    "def generate_new_plot(title):\n",
    "    prompt = f'generate a 30 word maximum summary for the film {title}.'\n",
    "    response = openai.chat.completions.create( \n",
    "        model = 'gpt-3.5-turbo-0125',\n",
    "        messages=[\n",
    "            {\"role\": \"user\", \"content\": prompt}\n",
    "        ],\n",
    "        max_tokens = 150, \n",
    "        temperature = 0.5)\n",
    "    new_plot = response.choices[0].message.content\n",
    "    return new_plot"
   ]
  },
  {
   "cell_type": "code",
   "execution_count": 14,
   "id": "ab89cf4d-4645-4193-967d-829dd354c803",
   "metadata": {},
   "outputs": [],
   "source": [
    "def new_summary(df):\n",
    "    for index, row in df.iterrows():\n",
    "        title = row['title']\n",
    "        \n",
    "        if pd.isnull(row['gen_summary']):\n",
    "            gen_summary = generate_new_plot(title)\n",
    "            df.at[index, 'gen_summary'] = gen_summary\n",
    "    return df"
   ]
  },
  {
   "cell_type": "code",
   "execution_count": 8,
   "id": "5813fb4b-2665-4fa9-9b82-61b547b616ea",
   "metadata": {},
   "outputs": [],
   "source": [
    "random_sample = df.sample(n=200, random_state=42)"
   ]
  },
  {
   "cell_type": "code",
   "execution_count": 15,
   "id": "3a8145a8-3926-4cd1-a8e8-d9808414e624",
   "metadata": {},
   "outputs": [],
   "source": [
    "random_sample_new = new_summary(random_sample)"
   ]
  },
  {
   "cell_type": "code",
   "execution_count": 17,
   "id": "fa0e2d1b-ba7e-416c-b61f-9948c5b9e089",
   "metadata": {},
   "outputs": [],
   "source": [
    "random_sample_new.to_csv('testing_sample.csv')\n"
   ]
  },
  {
   "cell_type": "code",
   "execution_count": 15,
   "id": "2a10aa45-4e3a-4520-9d34-daf84b3025d0",
   "metadata": {},
   "outputs": [
    {
     "data": {
      "text/plain": [
       "1000"
      ]
     },
     "execution_count": 15,
     "metadata": {},
     "output_type": "execute_result"
    }
   ],
   "source": [
    "df_1000=df[:1000]\n",
    "len(df_1000)"
   ]
  },
  {
   "cell_type": "code",
   "execution_count": 17,
   "id": "b9319a94-6684-4a3c-8f87-3b42c46008bc",
   "metadata": {},
   "outputs": [],
   "source": [
    "df_1000_new = new_summary(df_1000)"
   ]
  },
  {
   "cell_type": "code",
   "execution_count": 26,
   "id": "49e7c4b4-3f89-474e-a55e-65c35f1c8c99",
   "metadata": {},
   "outputs": [
    {
     "data": {
      "text/plain": [
       "1000"
      ]
     },
     "execution_count": 26,
     "metadata": {},
     "output_type": "execute_result"
    }
   ],
   "source": [
    "df_2000 = df.iloc[1000:2000, :]\n",
    "len(df_2000)"
   ]
  },
  {
   "cell_type": "code",
   "execution_count": 27,
   "id": "5b99e566-23e8-4eb7-9229-da40387fec60",
   "metadata": {},
   "outputs": [],
   "source": [
    "df_2000_new = new_summary(df_2000)"
   ]
  },
  {
   "cell_type": "code",
   "execution_count": 33,
   "id": "ca8a87a1-2324-4bba-bfa4-fbfa7457bb4c",
   "metadata": {},
   "outputs": [],
   "source": [
    "df_0_2000 = pd.concat([df_1000_new, df_2000_new])"
   ]
  },
  {
   "cell_type": "code",
   "execution_count": 35,
   "id": "1af9114c-d314-4993-8820-f3dd47d79138",
   "metadata": {},
   "outputs": [],
   "source": [
    "df_0_2000.to_csv('0-2000_movies_summary.csv')"
   ]
  },
  {
   "cell_type": "code",
   "execution_count": 36,
   "id": "718bf216-d273-4c6d-a367-81eb62dd42aa",
   "metadata": {},
   "outputs": [
    {
     "data": {
      "text/plain": [
       "1000"
      ]
     },
     "execution_count": 36,
     "metadata": {},
     "output_type": "execute_result"
    }
   ],
   "source": [
    "df_3000 = df.iloc[2000:3000, :]\n",
    "len(df_3000)"
   ]
  },
  {
   "cell_type": "code",
   "execution_count": 37,
   "id": "627621f1-f911-4a59-9fb5-db237f2abf4a",
   "metadata": {},
   "outputs": [],
   "source": [
    "df_3000_new = new_summary(df_3000)"
   ]
  },
  {
   "cell_type": "code",
   "execution_count": 38,
   "id": "48413d18-7425-4088-b718-03392f6a7b5e",
   "metadata": {},
   "outputs": [
    {
     "data": {
      "text/plain": [
       "1000"
      ]
     },
     "execution_count": 38,
     "metadata": {},
     "output_type": "execute_result"
    }
   ],
   "source": [
    "df_4000 = df.iloc[3000:4000, :]\n",
    "len(df_4000)"
   ]
  },
  {
   "cell_type": "code",
   "execution_count": 39,
   "id": "64d78735-2f2f-4d76-a80b-bf9ead22b3de",
   "metadata": {},
   "outputs": [],
   "source": [
    "df_4000_new = new_summary(df_4000)"
   ]
  },
  {
   "cell_type": "code",
   "execution_count": 40,
   "id": "f761edf6-6446-4a0c-b7d6-f45f76096017",
   "metadata": {},
   "outputs": [
    {
     "data": {
      "text/plain": [
       "1000"
      ]
     },
     "execution_count": 40,
     "metadata": {},
     "output_type": "execute_result"
    }
   ],
   "source": [
    "df_5000 = df.iloc[4000:5000, :]\n",
    "len(df_5000)"
   ]
  },
  {
   "cell_type": "code",
   "execution_count": 41,
   "id": "21c8ad98-7d95-44e6-9eba-01e062a000b6",
   "metadata": {},
   "outputs": [],
   "source": [
    "df_3_4000 = pd.concat([df_3000_new, df_4000_new])"
   ]
  },
  {
   "cell_type": "code",
   "execution_count": 42,
   "id": "c7cec358-3bd2-4a80-bc6a-c475b0ee5b67",
   "metadata": {},
   "outputs": [],
   "source": [
    "df_3_4000.to_csv('3-4000_movies_summary.csv')"
   ]
  },
  {
   "cell_type": "code",
   "execution_count": 43,
   "id": "b6b3e662-5da4-4689-8cdd-59350cead559",
   "metadata": {},
   "outputs": [],
   "source": [
    "df_5000_new = new_summary(df_5000)"
   ]
  },
  {
   "cell_type": "code",
   "execution_count": 44,
   "id": "96948d7d-928f-40e1-b778-d2dd7312f5d9",
   "metadata": {},
   "outputs": [
    {
     "data": {
      "text/plain": [
       "1204"
      ]
     },
     "execution_count": 44,
     "metadata": {},
     "output_type": "execute_result"
    }
   ],
   "source": [
    "df_6000 = df[5000:]\n",
    "len(df_6000)"
   ]
  },
  {
   "cell_type": "code",
   "execution_count": 46,
   "id": "c9682ec6-bb87-4928-899c-e2d5f7e53986",
   "metadata": {},
   "outputs": [],
   "source": [
    "df_6000_new = new_summary(df_6000)"
   ]
  },
  {
   "cell_type": "code",
   "execution_count": 47,
   "id": "6c4f14c8-db4a-4bbe-a5c6-85c48936e715",
   "metadata": {},
   "outputs": [],
   "source": [
    "df_full = pd.concat([df_1000_new, df_2000_new, df_3000_new, df_4000_new, df_5000_new, df_6000_new])"
   ]
  },
  {
   "cell_type": "code",
   "execution_count": 50,
   "id": "0dba8c3f-85ce-4f98-945c-9af8f6d390f8",
   "metadata": {},
   "outputs": [],
   "source": [
    "df_full.to_csv('movie_with_summary.csv')"
   ]
  },
  {
   "cell_type": "code",
   "execution_count": null,
   "id": "fb924839-1354-4afb-a2e1-6f136d208559",
   "metadata": {},
   "outputs": [],
   "source": []
  }
 ],
 "metadata": {
  "kernelspec": {
   "display_name": "Python 3 (ipykernel)",
   "language": "python",
   "name": "python3"
  },
  "language_info": {
   "codemirror_mode": {
    "name": "ipython",
    "version": 3
   },
   "file_extension": ".py",
   "mimetype": "text/x-python",
   "name": "python",
   "nbconvert_exporter": "python",
   "pygments_lexer": "ipython3",
   "version": "3.10.6"
  }
 },
 "nbformat": 4,
 "nbformat_minor": 5
}
