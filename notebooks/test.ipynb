{
 "cells": [
  {
   "cell_type": "code",
   "execution_count": 1,
   "metadata": {},
   "outputs": [
    {
     "name": "stderr",
     "output_type": "stream",
     "text": [
      "/tmp/ipykernel_35673/3842437144.py:1: DeprecationWarning: \n",
      "Pyarrow will become a required dependency of pandas in the next major release of pandas (pandas 3.0),\n",
      "(to allow more performant data types, such as the Arrow string type, and better interoperability with other libraries)\n",
      "but was not found to be installed on your system.\n",
      "If this would cause problems for you,\n",
      "please provide us feedback at https://github.com/pandas-dev/pandas/issues/54466\n",
      "        \n",
      "  import pandas as pd\n"
     ]
    }
   ],
   "source": [
    "import pandas as pd\n",
    "import pickle"
   ]
  },
  {
   "cell_type": "code",
   "execution_count": 2,
   "metadata": {},
   "outputs": [],
   "source": [
    "df = pd.read_pickle('~/code/rossnorman11/raw_data/films_with_plot_complete.pkl')"
   ]
  },
  {
   "cell_type": "code",
   "execution_count": 3,
   "metadata": {},
   "outputs": [
    {
     "data": {
      "text/html": [
       "<div>\n",
       "<style scoped>\n",
       "    .dataframe tbody tr th:only-of-type {\n",
       "        vertical-align: middle;\n",
       "    }\n",
       "\n",
       "    .dataframe tbody tr th {\n",
       "        vertical-align: top;\n",
       "    }\n",
       "\n",
       "    .dataframe thead th {\n",
       "        text-align: right;\n",
       "    }\n",
       "</style>\n",
       "<table border=\"1\" class=\"dataframe\">\n",
       "  <thead>\n",
       "    <tr style=\"text-align: right;\">\n",
       "      <th></th>\n",
       "      <th>title</th>\n",
       "      <th>plot_synopsis</th>\n",
       "    </tr>\n",
       "  </thead>\n",
       "  <tbody>\n",
       "    <tr>\n",
       "      <th>0</th>\n",
       "      <td>Mr. Holland's Opus</td>\n",
       "      <td>Glenn Holland, not a morning person by anyone'...</td>\n",
       "    </tr>\n",
       "    <tr>\n",
       "      <th>1</th>\n",
       "      <td>Scarface</td>\n",
       "      <td>In May 1980, a Cuban man named Tony Montana (A...</td>\n",
       "    </tr>\n",
       "    <tr>\n",
       "      <th>5</th>\n",
       "      <td>Flightplan</td>\n",
       "      <td>Kyle Pratt (Jodie Foster) is a propulsion engi...</td>\n",
       "    </tr>\n",
       "    <tr>\n",
       "      <th>6</th>\n",
       "      <td>Little Caesar</td>\n",
       "      <td>Small-time Italian-American criminals Caesar E...</td>\n",
       "    </tr>\n",
       "    <tr>\n",
       "      <th>7</th>\n",
       "      <td>Savages</td>\n",
       "      <td>The movie begins with a video being shot of me...</td>\n",
       "    </tr>\n",
       "  </tbody>\n",
       "</table>\n",
       "</div>"
      ],
      "text/plain": [
       "                title                                      plot_synopsis\n",
       "0  Mr. Holland's Opus  Glenn Holland, not a morning person by anyone'...\n",
       "1            Scarface  In May 1980, a Cuban man named Tony Montana (A...\n",
       "5          Flightplan  Kyle Pratt (Jodie Foster) is a propulsion engi...\n",
       "6       Little Caesar  Small-time Italian-American criminals Caesar E...\n",
       "7             Savages  The movie begins with a video being shot of me..."
      ]
     },
     "execution_count": 3,
     "metadata": {},
     "output_type": "execute_result"
    }
   ],
   "source": [
    "df.head()"
   ]
  },
  {
   "cell_type": "code",
   "execution_count": 4,
   "metadata": {},
   "outputs": [],
   "source": [
    "df_2 = pd.read_csv('~/code/rossnorman11/raw_data/movie_with_summary.csv')"
   ]
  },
  {
   "cell_type": "code",
   "execution_count": 5,
   "metadata": {},
   "outputs": [
    {
     "data": {
      "text/html": [
       "<div>\n",
       "<style scoped>\n",
       "    .dataframe tbody tr th:only-of-type {\n",
       "        vertical-align: middle;\n",
       "    }\n",
       "\n",
       "    .dataframe tbody tr th {\n",
       "        vertical-align: top;\n",
       "    }\n",
       "\n",
       "    .dataframe thead th {\n",
       "        text-align: right;\n",
       "    }\n",
       "</style>\n",
       "<table border=\"1\" class=\"dataframe\">\n",
       "  <thead>\n",
       "    <tr style=\"text-align: right;\">\n",
       "      <th></th>\n",
       "      <th>Unnamed: 0</th>\n",
       "      <th>title</th>\n",
       "      <th>plot_synopsis</th>\n",
       "      <th>gen_summary</th>\n",
       "    </tr>\n",
       "  </thead>\n",
       "  <tbody>\n",
       "    <tr>\n",
       "      <th>0</th>\n",
       "      <td>0</td>\n",
       "      <td>Mr. Holland's Opus</td>\n",
       "      <td>Glenn Holland, not a morning person by anyone'...</td>\n",
       "      <td>\"Mr. Holland's Opus\" follows the life of a ded...</td>\n",
       "    </tr>\n",
       "    <tr>\n",
       "      <th>1</th>\n",
       "      <td>1</td>\n",
       "      <td>Scarface</td>\n",
       "      <td>In May 1980, a Cuban man named Tony Montana (A...</td>\n",
       "      <td>\"Scarface\" follows Cuban immigrant Tony Montan...</td>\n",
       "    </tr>\n",
       "    <tr>\n",
       "      <th>2</th>\n",
       "      <td>5</td>\n",
       "      <td>Flightplan</td>\n",
       "      <td>Kyle Pratt (Jodie Foster) is a propulsion engi...</td>\n",
       "      <td>After her husband's sudden death, a grieving w...</td>\n",
       "    </tr>\n",
       "    <tr>\n",
       "      <th>3</th>\n",
       "      <td>6</td>\n",
       "      <td>Little Caesar</td>\n",
       "      <td>Small-time Italian-American criminals Caesar E...</td>\n",
       "      <td>\"Little Caesar\" follows the rise and fall of a...</td>\n",
       "    </tr>\n",
       "    <tr>\n",
       "      <th>4</th>\n",
       "      <td>7</td>\n",
       "      <td>Savages</td>\n",
       "      <td>The movie begins with a video being shot of me...</td>\n",
       "      <td>Two marijuana entrepreneurs in California are ...</td>\n",
       "    </tr>\n",
       "    <tr>\n",
       "      <th>...</th>\n",
       "      <td>...</td>\n",
       "      <td>...</td>\n",
       "      <td>...</td>\n",
       "      <td>...</td>\n",
       "    </tr>\n",
       "    <tr>\n",
       "      <th>6199</th>\n",
       "      <td>7969</td>\n",
       "      <td>Thunderheart</td>\n",
       "      <td>During the early 1970s, FBI agent Ray Levoi is...</td>\n",
       "      <td>A young FBI agent is sent to investigate a mur...</td>\n",
       "    </tr>\n",
       "    <tr>\n",
       "      <th>6200</th>\n",
       "      <td>7970</td>\n",
       "      <td>One Night of Love</td>\n",
       "      <td>Opera singer Mary Barrett (Grace Moore) leaves...</td>\n",
       "      <td>A young opera singer, Mary, falls in love with...</td>\n",
       "    </tr>\n",
       "    <tr>\n",
       "      <th>6201</th>\n",
       "      <td>7971</td>\n",
       "      <td>One False Move</td>\n",
       "      <td>Three criminals, Ray, Pluto and Fantasia (Ray'...</td>\n",
       "      <td>In the film \"One False Move,\" a trio of crimin...</td>\n",
       "    </tr>\n",
       "    <tr>\n",
       "      <th>6202</th>\n",
       "      <td>7972</td>\n",
       "      <td>Lucky Numbers</td>\n",
       "      <td>In 1988 Russ Richards (John Travolta), the wea...</td>\n",
       "      <td>\"Lucky Numbers\" follows the story of a TV weat...</td>\n",
       "    </tr>\n",
       "    <tr>\n",
       "      <th>6203</th>\n",
       "      <td>7973</td>\n",
       "      <td>Play Dirty</td>\n",
       "      <td>During the North African Campaign in World War...</td>\n",
       "      <td>In the film Play Dirty, a group of British sol...</td>\n",
       "    </tr>\n",
       "  </tbody>\n",
       "</table>\n",
       "<p>6204 rows × 4 columns</p>\n",
       "</div>"
      ],
      "text/plain": [
       "      Unnamed: 0               title  \\\n",
       "0              0  Mr. Holland's Opus   \n",
       "1              1            Scarface   \n",
       "2              5          Flightplan   \n",
       "3              6       Little Caesar   \n",
       "4              7             Savages   \n",
       "...          ...                 ...   \n",
       "6199        7969        Thunderheart   \n",
       "6200        7970   One Night of Love   \n",
       "6201        7971      One False Move   \n",
       "6202        7972       Lucky Numbers   \n",
       "6203        7973          Play Dirty   \n",
       "\n",
       "                                          plot_synopsis  \\\n",
       "0     Glenn Holland, not a morning person by anyone'...   \n",
       "1     In May 1980, a Cuban man named Tony Montana (A...   \n",
       "2     Kyle Pratt (Jodie Foster) is a propulsion engi...   \n",
       "3     Small-time Italian-American criminals Caesar E...   \n",
       "4     The movie begins with a video being shot of me...   \n",
       "...                                                 ...   \n",
       "6199  During the early 1970s, FBI agent Ray Levoi is...   \n",
       "6200  Opera singer Mary Barrett (Grace Moore) leaves...   \n",
       "6201  Three criminals, Ray, Pluto and Fantasia (Ray'...   \n",
       "6202  In 1988 Russ Richards (John Travolta), the wea...   \n",
       "6203  During the North African Campaign in World War...   \n",
       "\n",
       "                                            gen_summary  \n",
       "0     \"Mr. Holland's Opus\" follows the life of a ded...  \n",
       "1     \"Scarface\" follows Cuban immigrant Tony Montan...  \n",
       "2     After her husband's sudden death, a grieving w...  \n",
       "3     \"Little Caesar\" follows the rise and fall of a...  \n",
       "4     Two marijuana entrepreneurs in California are ...  \n",
       "...                                                 ...  \n",
       "6199  A young FBI agent is sent to investigate a mur...  \n",
       "6200  A young opera singer, Mary, falls in love with...  \n",
       "6201  In the film \"One False Move,\" a trio of crimin...  \n",
       "6202  \"Lucky Numbers\" follows the story of a TV weat...  \n",
       "6203  In the film Play Dirty, a group of British sol...  \n",
       "\n",
       "[6204 rows x 4 columns]"
      ]
     },
     "execution_count": 5,
     "metadata": {},
     "output_type": "execute_result"
    }
   ],
   "source": [
    "df_2"
   ]
  },
  {
   "cell_type": "code",
   "execution_count": 9,
   "metadata": {},
   "outputs": [
    {
     "data": {
      "text/html": [
       "<div>\n",
       "<style scoped>\n",
       "    .dataframe tbody tr th:only-of-type {\n",
       "        vertical-align: middle;\n",
       "    }\n",
       "\n",
       "    .dataframe tbody tr th {\n",
       "        vertical-align: top;\n",
       "    }\n",
       "\n",
       "    .dataframe thead th {\n",
       "        text-align: right;\n",
       "    }\n",
       "</style>\n",
       "<table border=\"1\" class=\"dataframe\">\n",
       "  <thead>\n",
       "    <tr style=\"text-align: right;\">\n",
       "      <th></th>\n",
       "      <th>title</th>\n",
       "      <th>plot_synopsis</th>\n",
       "      <th>movieId</th>\n",
       "    </tr>\n",
       "  </thead>\n",
       "  <tbody>\n",
       "    <tr>\n",
       "      <th>0</th>\n",
       "      <td>Mr. Holland's Opus</td>\n",
       "      <td>Glenn Holland, not a morning person by anyone'...</td>\n",
       "      <td>62</td>\n",
       "    </tr>\n",
       "    <tr>\n",
       "      <th>1</th>\n",
       "      <td>Scarface</td>\n",
       "      <td>In May 1980, a Cuban man named Tony Montana (A...</td>\n",
       "      <td>4262</td>\n",
       "    </tr>\n",
       "    <tr>\n",
       "      <th>5</th>\n",
       "      <td>Flightplan</td>\n",
       "      <td>Kyle Pratt (Jodie Foster) is a propulsion engi...</td>\n",
       "      <td>37727</td>\n",
       "    </tr>\n",
       "    <tr>\n",
       "      <th>6</th>\n",
       "      <td>Little Caesar</td>\n",
       "      <td>Small-time Italian-American criminals Caesar E...</td>\n",
       "      <td>25773</td>\n",
       "    </tr>\n",
       "    <tr>\n",
       "      <th>7</th>\n",
       "      <td>Savages</td>\n",
       "      <td>The movie begins with a video being shot of me...</td>\n",
       "      <td>56956</td>\n",
       "    </tr>\n",
       "  </tbody>\n",
       "</table>\n",
       "</div>"
      ],
      "text/plain": [
       "                title                                      plot_synopsis  \\\n",
       "0  Mr. Holland's Opus  Glenn Holland, not a morning person by anyone'...   \n",
       "1            Scarface  In May 1980, a Cuban man named Tony Montana (A...   \n",
       "5          Flightplan  Kyle Pratt (Jodie Foster) is a propulsion engi...   \n",
       "6       Little Caesar  Small-time Italian-American criminals Caesar E...   \n",
       "7             Savages  The movie begins with a video being shot of me...   \n",
       "\n",
       "   movieId  \n",
       "0       62  \n",
       "1     4262  \n",
       "5    37727  \n",
       "6    25773  \n",
       "7    56956  "
      ]
     },
     "execution_count": 9,
     "metadata": {},
     "output_type": "execute_result"
    }
   ],
   "source": [
    "df_3 = pd.read_pickle('~/code/rossnorman11/raw_data/title_plot_movieId.pkl')\n",
    "df_3.head()"
   ]
  },
  {
   "cell_type": "code",
   "execution_count": 6,
   "metadata": {},
   "outputs": [
    {
     "data": {
      "text/plain": [
       "['[', ']']"
      ]
     },
     "execution_count": 6,
     "metadata": {},
     "output_type": "execute_result"
    }
   ],
   "source": [
    "x= list('[]')\n",
    "x"
   ]
  },
  {
   "cell_type": "code",
   "execution_count": 4,
   "metadata": {},
   "outputs": [
    {
     "ename": "NameError",
     "evalue": "name 'string' is not defined",
     "output_type": "error",
     "traceback": [
      "\u001b[0;31m---------------------------------------------------------------------------\u001b[0m",
      "\u001b[0;31mNameError\u001b[0m                                 Traceback (most recent call last)",
      "Cell \u001b[0;32mIn[4], line 1\u001b[0m\n\u001b[0;32m----> 1\u001b[0m \u001b[43mstring\u001b[49m(x)\n",
      "\u001b[0;31mNameError\u001b[0m: name 'string' is not defined"
     ]
    }
   ],
   "source": [
    "string(x)"
   ]
  },
  {
   "cell_type": "code",
   "execution_count": 6,
   "metadata": {},
   "outputs": [
    {
     "name": "stdout",
     "output_type": "stream",
     "text": [
      "[name: \"/device:CPU:0\"\n",
      "device_type: \"CPU\"\n",
      "memory_limit: 268435456\n",
      "locality {\n",
      "}\n",
      "incarnation: 9361077481238421012\n",
      "xla_global_id: -1\n",
      "]\n"
     ]
    },
    {
     "name": "stderr",
     "output_type": "stream",
     "text": [
      "2024-02-14 16:56:34.724868: I tensorflow/compiler/xla/stream_executor/cuda/cuda_gpu_executor.cc:880] could not open file to read NUMA node: /sys/bus/pci/devices/0000:01:00.0/numa_node\n",
      "Your kernel may have been built without NUMA support.\n",
      "2024-02-14 16:56:34.724924: W tensorflow/core/common_runtime/gpu/gpu_device.cc:2211] Cannot dlopen some GPU libraries. Please make sure the missing libraries mentioned above are installed properly if you would like to use GPU. Follow the guide at https://www.tensorflow.org/install/gpu for how to download and setup the required libraries for your platform.\n",
      "Skipping registering GPU devices...\n"
     ]
    }
   ],
   "source": [
    "import tensorflow as tf\n",
    "from tensorflow.python.client import device_lib\n",
    "print(device_lib.list_local_devices())"
   ]
  },
  {
   "cell_type": "code",
   "execution_count": 8,
   "metadata": {},
   "outputs": [
    {
     "name": "stderr",
     "output_type": "stream",
     "text": [
      "2024-02-14 16:57:01.744917: I tensorflow/compiler/xla/stream_executor/cuda/cuda_gpu_executor.cc:880] could not open file to read NUMA node: /sys/bus/pci/devices/0000:01:00.0/numa_node\n",
      "Your kernel may have been built without NUMA support.\n",
      "2024-02-14 16:57:01.744972: W tensorflow/core/common_runtime/gpu/gpu_device.cc:2211] Cannot dlopen some GPU libraries. Please make sure the missing libraries mentioned above are installed properly if you would like to use GPU. Follow the guide at https://www.tensorflow.org/install/gpu for how to download and setup the required libraries for your platform.\n",
      "Skipping registering GPU devices...\n"
     ]
    },
    {
     "data": {
      "text/plain": [
       "False"
      ]
     },
     "execution_count": 8,
     "metadata": {},
     "output_type": "execute_result"
    }
   ],
   "source": [
    "import tensorflow as tf\n",
    "tf.test.is_gpu_available()"
   ]
  }
 ],
 "metadata": {
  "kernelspec": {
   "display_name": "movie_recommendation_GPT",
   "language": "python",
   "name": "python3"
  },
  "language_info": {
   "codemirror_mode": {
    "name": "ipython",
    "version": 3
   },
   "file_extension": ".py",
   "mimetype": "text/x-python",
   "name": "python",
   "nbconvert_exporter": "python",
   "pygments_lexer": "ipython3",
   "version": "3.10.6"
  }
 },
 "nbformat": 4,
 "nbformat_minor": 2
}
