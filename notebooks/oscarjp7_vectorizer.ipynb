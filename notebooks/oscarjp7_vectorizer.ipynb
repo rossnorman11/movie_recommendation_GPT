{
 "cells": [
  {
   "cell_type": "code",
   "execution_count": 24,
   "id": "42069944-851b-4d90-8865-abf340399764",
   "metadata": {},
   "outputs": [
    {
     "data": {
      "text/html": [
       "<div>\n",
       "<style scoped>\n",
       "    .dataframe tbody tr th:only-of-type {\n",
       "        vertical-align: middle;\n",
       "    }\n",
       "\n",
       "    .dataframe tbody tr th {\n",
       "        vertical-align: top;\n",
       "    }\n",
       "\n",
       "    .dataframe thead th {\n",
       "        text-align: right;\n",
       "    }\n",
       "</style>\n",
       "<table border=\"1\" class=\"dataframe\">\n",
       "  <thead>\n",
       "    <tr style=\"text-align: right;\">\n",
       "      <th></th>\n",
       "      <th>Unnamed: 0</th>\n",
       "      <th>title</th>\n",
       "      <th>plot_synopsis</th>\n",
       "      <th>gen_summary</th>\n",
       "    </tr>\n",
       "  </thead>\n",
       "  <tbody>\n",
       "    <tr>\n",
       "      <th>0</th>\n",
       "      <td>0</td>\n",
       "      <td>Mr. Holland's Opus</td>\n",
       "      <td>Glenn Holland, not a morning person by anyone'...</td>\n",
       "      <td>\"Mr. Holland's Opus\" follows the life of a ded...</td>\n",
       "    </tr>\n",
       "    <tr>\n",
       "      <th>1</th>\n",
       "      <td>1</td>\n",
       "      <td>Scarface</td>\n",
       "      <td>In May 1980, a Cuban man named Tony Montana (A...</td>\n",
       "      <td>\"Scarface\" follows Cuban immigrant Tony Montan...</td>\n",
       "    </tr>\n",
       "    <tr>\n",
       "      <th>2</th>\n",
       "      <td>5</td>\n",
       "      <td>Flightplan</td>\n",
       "      <td>Kyle Pratt (Jodie Foster) is a propulsion engi...</td>\n",
       "      <td>After her husband's sudden death, a grieving w...</td>\n",
       "    </tr>\n",
       "    <tr>\n",
       "      <th>3</th>\n",
       "      <td>6</td>\n",
       "      <td>Little Caesar</td>\n",
       "      <td>Small-time Italian-American criminals Caesar E...</td>\n",
       "      <td>\"Little Caesar\" follows the rise and fall of a...</td>\n",
       "    </tr>\n",
       "    <tr>\n",
       "      <th>4</th>\n",
       "      <td>7</td>\n",
       "      <td>Savages</td>\n",
       "      <td>The movie begins with a video being shot of me...</td>\n",
       "      <td>Two marijuana entrepreneurs in California are ...</td>\n",
       "    </tr>\n",
       "  </tbody>\n",
       "</table>\n",
       "</div>"
      ],
      "text/plain": [
       "   Unnamed: 0               title  \\\n",
       "0           0  Mr. Holland's Opus   \n",
       "1           1            Scarface   \n",
       "2           5          Flightplan   \n",
       "3           6       Little Caesar   \n",
       "4           7             Savages   \n",
       "\n",
       "                                       plot_synopsis  \\\n",
       "0  Glenn Holland, not a morning person by anyone'...   \n",
       "1  In May 1980, a Cuban man named Tony Montana (A...   \n",
       "2  Kyle Pratt (Jodie Foster) is a propulsion engi...   \n",
       "3  Small-time Italian-American criminals Caesar E...   \n",
       "4  The movie begins with a video being shot of me...   \n",
       "\n",
       "                                         gen_summary  \n",
       "0  \"Mr. Holland's Opus\" follows the life of a ded...  \n",
       "1  \"Scarface\" follows Cuban immigrant Tony Montan...  \n",
       "2  After her husband's sudden death, a grieving w...  \n",
       "3  \"Little Caesar\" follows the rise and fall of a...  \n",
       "4  Two marijuana entrepreneurs in California are ...  "
      ]
     },
     "execution_count": 24,
     "metadata": {},
     "output_type": "execute_result"
    }
   ],
   "source": [
    "import pandas as pd\n",
    "\n",
    "\n",
    "df = pd.read_csv('movie_with_summary.csv')\n",
    "\n",
    "\n",
    "df.head()"
   ]
  },
  {
   "cell_type": "code",
   "execution_count": 17,
   "id": "ae730f8a-7917-4140-bd0e-269d5cc92515",
   "metadata": {},
   "outputs": [],
   "source": [
    "import re\n",
    "from nltk.tokenize import word_tokenize\n",
    "from nltk.corpus import stopwords \n",
    "from nltk.stem import WordNetLemmatizer\n",
    "\n",
    "lemmatizer = WordNetLemmatizer()\n",
    "stop_words = set(stopwords.words('english'))\n",
    "\n",
    "def preprocess(text):\n",
    "    text = text.lower()\n",
    "    text = re.sub(r'[^a-zA-Z\\s]', '', text)\n",
    "    words = word_tokenize(text)\n",
    "    words = [w for w in words if not w in stop_words]\n",
    "    words = [lemmatizer.lemmatize(w) for w in words]\n",
    "    return words"
   ]
  },
  {
   "cell_type": "code",
   "execution_count": 25,
   "id": "f11df6df-a731-4ae8-9456-cd98b9b59719",
   "metadata": {},
   "outputs": [],
   "source": [
    "# apply preprocess the the generated summaries\n",
    "df['gen_summary'] = df['gen_summary'].apply(preprocess)"
   ]
  },
  {
   "cell_type": "code",
   "execution_count": 26,
   "id": "af3810cf-e455-43b8-a250-1dffdd5ee53a",
   "metadata": {},
   "outputs": [],
   "source": [
    "# Add all the tokenized words into strings\n",
    "df['summary_str'] = df['gen_summary'].apply(lambda x: ' '.join(map(str, x)))"
   ]
  },
  {
   "cell_type": "code",
   "execution_count": 27,
   "id": "ae0bbf69-db9f-40ff-a815-c0da751c8739",
   "metadata": {},
   "outputs": [],
   "source": [
    "from sklearn.feature_extraction.text import TfidfVectorizer\n",
    "from sklearn.metrics.pairwise import linear_kernel\n",
    "\n",
    "# Apply vectorizer to generated summary strings\n",
    "tf_idf_vectorizer = TfidfVectorizer(stop_words='english')\n",
    "tf_idf_matrix = tf_idf_vectorizer.fit_transform(df['summary_str'])"
   ]
  },
  {
   "cell_type": "code",
   "execution_count": 35,
   "id": "58f079db-a25f-4557-adb5-7b85d0b084c4",
   "metadata": {},
   "outputs": [],
   "source": [
    "def find_recommendation(text):\n",
    "    # Vectorise user input\n",
    "    user_tf_idf_vector = tf_idf_vectorizer.transform([text])\n",
    "    # Find similarities\n",
    "    cos_similarities = linear_kernel(user_tf_idf_vector, tf_idf_matrix).flatten()\n",
    "    similar_movies = pd.DataFrame({'title': df['title'], 'similarity': cos_similarities})\n",
    "    similar_movies = similar_movies.sort_values(by='similarity', ascending=False)\n",
    "    top_10_recommendations = similar_movies.head(10)[['title', 'similarity']]\n",
    "    recommendations = f\"Top 10 recommendations:\\n{top_10_recommendations.to_string(index=False)}\"\n",
    "    return recommendations"
   ]
  },
  {
   "cell_type": "code",
   "execution_count": 38,
   "id": "10ebfd76-33d6-45fc-9fd3-3811a89a4489",
   "metadata": {},
   "outputs": [
    {
     "name": "stdout",
     "output_type": "stream",
     "text": [
      "Top 10 recommendations:\n",
      "                              title  similarity\n",
      "               Under the Tuscan Sun    0.272934\n",
      "                   To Hell and Back    0.266080\n",
      "                           Movie 43    0.253945\n",
      "Saints and Soldiers: Airborne Creed    0.243280\n",
      "                     Hamburger Hill    0.243260\n",
      "                           Timeline    0.234983\n",
      "                   13 Rue Madeleine    0.228554\n",
      "                      Days of Glory    0.224059\n",
      "                  Casualties of War    0.210394\n",
      "                  How I Won the War    0.199116\n"
     ]
    }
   ],
   "source": [
    "print(find_recommendation('movie about war in france, sad'))"
   ]
  },
  {
   "cell_type": "code",
   "execution_count": null,
   "id": "92a50d04-fd2f-4336-bfb6-acf049fe9f17",
   "metadata": {},
   "outputs": [],
   "source": []
  }
 ],
 "metadata": {
  "kernelspec": {
   "display_name": "Python 3 (ipykernel)",
   "language": "python",
   "name": "python3"
  },
  "language_info": {
   "codemirror_mode": {
    "name": "ipython",
    "version": 3
   },
   "file_extension": ".py",
   "mimetype": "text/x-python",
   "name": "python",
   "nbconvert_exporter": "python",
   "pygments_lexer": "ipython3",
   "version": "3.10.6"
  }
 },
 "nbformat": 4,
 "nbformat_minor": 5
}
